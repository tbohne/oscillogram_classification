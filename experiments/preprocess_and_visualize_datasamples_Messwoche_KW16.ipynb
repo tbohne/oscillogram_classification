{
 "cells": [
  {
   "cell_type": "markdown",
   "id": "64127a9b",
   "metadata": {
    "pycharm": {
     "name": "#%% md\n"
    }
   },
   "source": [
    "# Notebook for preprocessing and visualizing the measurements\n",
    "\n",
    "Preprocessing includes assembling the snippets of a measurement into one file, converting them into the same measuring unit, deleting NaN values (∞) and cropping the beginning of the measurement, giving alle measurements the same length."
   ]
  },
  {
   "cell_type": "code",
   "execution_count": null,
   "id": "4bf9af96",
   "metadata": {
    "pycharm": {
     "name": "#%%\n"
    }
   },
   "outputs": [],
   "source": [
    "import os\n",
    "import random\n",
    "\n",
    "import pandas\n",
    "import numpy as np\n",
    "from matplotlib import pyplot as plt"
   ]
  },
  {
   "cell_type": "code",
   "execution_count": null,
   "id": "def83212",
   "metadata": {},
   "outputs": [],
   "source": [
    "def get_file_paths(directory: str, file_format: str = \"csv\") -> list:\n",
    "    \"\"\"Returns the paths to the csv files in the subdirectories of the given directory.\n",
    "\n",
    "    Args:\n",
    "        directory (str): the directory whose subdirectories should be searched for csv files\n",
    "        file_format (str): file ending of the files that should be considered (without the dot)\n",
    "\n",
    "    Returns:\n",
    "        list: paths to the csv files as a list of strings\n",
    "    \"\"\"\n",
    "    files = []\n",
    "    for path_tuple in os.walk(directory):\n",
    "        for filename in path_tuple[2]:\n",
    "            if filename.endswith(\".\"+file_format):\n",
    "                files.append(os.path.join(path_tuple[0], filename))\n",
    "    return files\n",
    "\n",
    "\n",
    "def load_measurement_original_format(filename: str, return_measuring_units: bool = False) -> pandas.DataFrame:\n",
    "    \"\"\"Load measurement csv file in the original standard format, containing the lines\n",
    "    with the channel names and measuring units and a blank line in the beginning of the file.\n",
    "\n",
    "\n",
    "    Args:\n",
    "        filename (str): path to the csv file\n",
    "        return_measuring_units (bool): whether the second line of the file should be returned\n",
    "\n",
    "    Returns:\n",
    "        pandas.DataFrame: dataframe containing the time series in the csv file\n",
    "        str (optional): string containing the measuring units\n",
    "    \"\"\"\n",
    "    df = pandas.read_csv(filename, delimiter=\";\")\n",
    "    if return_measuring_units:\n",
    "        measuring_units = df[:1]\n",
    "    df = df[1:].apply(lambda x: x.str.replace(\",\", \".\"))\n",
    "    df = df.replace(\"∞\",1000000000)\n",
    "    df = df.replace(\"-∞\",-1000000000)\n",
    "    df = df.astype(float)\n",
    "    if return_measuring_units:\n",
    "        return df, measuring_units\n",
    "    else:\n",
    "        return df\n",
    "\n",
    "\n",
    "def save_in_original_format(\n",
    "    df: pandas.DataFrame, output_filename: str, \n",
    "    first_line: str = \"Zeit;Kanal A\\n\", \n",
    "    second_line: str = \"(s);(V)\\n\"\n",
    "):\n",
    "    \"\"\"Saves the DataFrame in the original format.\n",
    "\n",
    "    Args:\n",
    "        df: pandas.DataFrame that should be saved\n",
    "        output_filename: csv file to which the time series should be saved\n",
    "        first_line (str): first line of the created file; should contain channel names\n",
    "        second_line (str): second line of the created file; should contain measuring units\n",
    "    \"\"\"\n",
    "    with open(output_filename, \"w\", encoding='UTF-8') as file:\n",
    "        file.write(first_line)\n",
    "        file.write(second_line)\n",
    "        file.write(\"\\n\")\n",
    "        df.to_csv(file, index=False, sep=\";\", header=False, line_terminator='\\n', \\\n",
    "                  float_format=\"%.8f\", decimal=\",\")"
   ]
  },
  {
   "cell_type": "markdown",
   "id": "14623825",
   "metadata": {},
   "source": [
    "## Preprocessing of the measurement snippets"
   ]
  },
  {
   "cell_type": "code",
   "execution_count": null,
   "id": "40031aa5",
   "metadata": {},
   "outputs": [],
   "source": [
    "label = \"POS\"\n",
    "assert label in [\"POS\",\"NEG\"]"
   ]
  },
  {
   "cell_type": "code",
   "execution_count": null,
   "id": "095873e4-14fa-4df3-8957-d59821113312",
   "metadata": {},
   "outputs": [],
   "source": [
    "input_dir = \".\\Messdaten\\Messwoche_KW16\\Gut-Bilder\\Zyklusfahrt ohne Fehler mit angeklemmten Saugrohrdrucksensor\" if \\\n",
    "    label == \"POS\" else \".\\Messdaten\\Messwoche_KW16\\Schlecht-Bilder\\Zyklusfahrten, angeklemmter (defekt - P0172) \"\\\n",
    "    \"Saugrohrdrucksensor+vorkat Lambdasonde,\"\n",
    "\n",
    "output_dir = \".\\Messdaten\\Messwoche_KW16_zusammengesetzt_gekürzt\\Gut-Bilder\\Zyklusfahrt ohne Fehler mit angeklemmten \"\\\n",
    "    \"Saugrohrdrucksensor\" if label == \"POS\" else \".\\Messdaten\\Messwoche_KW16_zusammengesetzt_gekürzt\\Schlecht-\"\\\n",
    "    \"Bilder\\Zyklusfahrten, angeklemmter (defekt - P0172) Saugrohrdrucksensor+vorkat Lambdasonde,\""
   ]
  },
  {
   "cell_type": "code",
   "execution_count": null,
   "id": "42119900",
   "metadata": {},
   "outputs": [],
   "source": [
    "measurement_dirs = [os.path.join(input_dir, sub_directory) for sub_directory in os.listdir(input_dir) if \\\n",
    "                    os.path.isdir(os.path.join(input_dir, sub_directory))]"
   ]
  },
  {
   "cell_type": "code",
   "execution_count": null,
   "id": "d73fab0b",
   "metadata": {},
   "outputs": [],
   "source": [
    "if not os.path.isdir(output_dir):\n",
    "    os.makedirs(output_dir)"
   ]
  },
  {
   "cell_type": "code",
   "execution_count": null,
   "id": "e9f6f46a",
   "metadata": {},
   "outputs": [],
   "source": [
    "expected_measuring_units = np.array(['(s)', '(V)', '(V)', '(V)', '(V)', '(V)', '(V)', '(V)', '(V)'],\n",
    "      dtype=object)\n",
    "\n",
    "use_second_line_of_first_snippet_as_measuring_units = False\n",
    "cut_NaN = True\n",
    "desired_length = 42676\n",
    "\n",
    "for m_dir in measurement_dirs:\n",
    "    snippets = []\n",
    "    whole_measurement = None\n",
    "    time_offset = 0\n",
    "    \n",
    "    csv_snippets = get_file_paths(m_dir)\n",
    "    assert len(csv_snippets) < 10\n",
    "    for snippet_file in csv_snippets:\n",
    "        ts, current_measuring_units = load_measurement_original_format(snippet_file, return_measuring_units = True)\n",
    "        current_measuring_units = current_measuring_units.to_numpy().squeeze()\n",
    "        ts_array = ts.to_numpy().T \n",
    "        \n",
    "        if whole_measurement is None and use_second_line_of_first_snippet_as_measuring_units:\n",
    "            expected_measuring_units = current_measuring_units\n",
    "            \n",
    "                # convert from mV to V and from ms to s\n",
    "        for i in range(len(current_measuring_units)):\n",
    "            if expected_measuring_units[i] != current_measuring_units[i] :\n",
    "                if expected_measuring_units[i] == \"(mV)\" and current_measuring_units[i] == \"(V)\":\n",
    "                    ts_array[i] *= 1000\n",
    "                elif expected_measuring_units[i] == \"(V)\" and current_measuring_units[i] == \"(mV)\":\n",
    "                    ts_array[i] /= 1000\n",
    "                elif expected_measuring_units[i] == \"(ms)\" and current_measuring_units[i] == \"(s)\":\n",
    "                    ts_array[i] *= 1000\n",
    "                elif expected_measuring_units[i] == \"(s)\" and current_measuring_units[i] == \"(ms)\":\n",
    "                    ts_array[i] /= 1000\n",
    "                else:\n",
    "                    print(\n",
    "                        \"Warning: Unexpected case of measurement unit mismatch!\", \n",
    "                        expected_measuring_units[0,i], current_measuring_units[0,i]\n",
    "                    )\n",
    "        \n",
    "        if whole_measurement is None:\n",
    "            whole_measurement = ts_array\n",
    "\n",
    "        else:\n",
    "            \n",
    "            time_point_difference = ts_array[0,1] - ts_array[0,0]\n",
    "            \n",
    "            ts_array[0] = ts_array[0] - ts_array[0,0] + time_offset + time_point_difference\n",
    "            \n",
    "            whole_measurement = np.append(whole_measurement,ts_array, axis = 1)\n",
    "            \n",
    "        time_offset = ts_array[0, -1]\n",
    "        \n",
    "    else:\n",
    "        \n",
    "        df = pandas.DataFrame(whole_measurement).T\n",
    "        df = df.replace(1000000,1000000000)\n",
    "        df = df.replace(1000000000000,1000000000)\n",
    "        df = df.replace(-1000000,-1000000000)\n",
    "        df = df.replace(-1000000000000,-1000000000)\n",
    "    \n",
    "    if (df == 1000000000).any().any() or (df == -1000000000).any().any():\n",
    "        print(\"NaN in \", m_dir)\n",
    "        \n",
    "        if cut_NaN:\n",
    "            last_NaN = np.where(df == 1000000000)[0][-1]\n",
    "            df = df[last_NaN+1:]\n",
    "    \n",
    "    if desired_length is not None:\n",
    "        df = df[-desired_length:]\n",
    "        \n",
    "    # save measurements\n",
    "    save_in_original_format(\n",
    "        df, \n",
    "        output_filename = os.path.join(output_dir, label + \"_\" + m_dir.split(os.path.sep)[-1]+\".csv\"), \n",
    "        first_line = \"Zeit;Kanal A;Kanal B;Kanal C;Kanal D;Kanal E;Kanal F;Kanal G;Kanal H\\n\", \n",
    "        second_line = pandas.DataFrame(np.expand_dims(expected_measuring_units, axis=0)).\\\n",
    "            to_csv(header=None, index=False, sep=\";\").replace(\"\\r\",\"\")\n",
    "    )"
   ]
  },
  {
   "cell_type": "markdown",
   "id": "36b6208a",
   "metadata": {},
   "source": [
    "## Visualize the new files"
   ]
  },
  {
   "cell_type": "code",
   "execution_count": null,
   "id": "ce4987f0",
   "metadata": {},
   "outputs": [],
   "source": [
    "new_file_input_dir = \".\\Messdaten\\Messwoche_KW16_zusammengesetzt_gekürzt\"\n",
    "\n",
    "csv_files = get_file_paths(new_file_input_dir)\n",
    "\n",
    "positive_files = [csv_file for csv_file in csv_files if \"POS\" in csv_file]\n",
    "negative_files = [csv_file for csv_file in csv_files if \"NEG\" in csv_file]"
   ]
  },
  {
   "cell_type": "markdown",
   "id": "8be6f272",
   "metadata": {},
   "source": [
    "### Visualize a positive measurement"
   ]
  },
  {
   "cell_type": "code",
   "execution_count": null,
   "id": "b66011cd",
   "metadata": {},
   "outputs": [],
   "source": [
    "pos_idx = random.randint(0,len(positive_files)-1)\n",
    "print(positive_files[pos_idx])\n",
    "df = load_measurement_original_format(positive_files[pos_idx])\n",
    "df.plot(subplots=True, figsize=(20,30))"
   ]
  },
  {
   "cell_type": "markdown",
   "id": "4cb1f577",
   "metadata": {},
   "source": [
    "### Visualize a negative measurement"
   ]
  },
  {
   "cell_type": "code",
   "execution_count": null,
   "id": "cdc7486b",
   "metadata": {},
   "outputs": [],
   "source": [
    "neg_idx = random.randint(0,len(negative_files)-1)\n",
    "print(negative_files[neg_idx])\n",
    "df = load_measurement_original_format(negative_files[neg_idx])\n",
    "df.plot(subplots=True, figsize=(20,30))"
   ]
  },
  {
   "cell_type": "code",
   "execution_count": null,
   "id": "cb2535ea",
   "metadata": {},
   "outputs": [],
   "source": []
  }
 ],
 "metadata": {
  "kernelspec": {
   "display_name": "Python 3 (ipykernel)",
   "language": "python",
   "name": "python3"
  },
  "language_info": {
   "codemirror_mode": {
    "name": "ipython",
    "version": 3
   },
   "file_extension": ".py",
   "mimetype": "text/x-python",
   "name": "python",
   "nbconvert_exporter": "python",
   "pygments_lexer": "ipython3",
   "version": "3.9.12"
  }
 },
 "nbformat": 4,
 "nbformat_minor": 5
}
